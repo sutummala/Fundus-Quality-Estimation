{
  "nbformat": 4,
  "nbformat_minor": 0,
  "metadata": {
    "colab": {
      "provenance": [],
      "authorship_tag": "ABX9TyMCb8eQC4CzB0jcSXdlAS3Y",
      "include_colab_link": true
    },
    "kernelspec": {
      "name": "python3",
      "display_name": "Python 3"
    },
    "language_info": {
      "name": "python"
    }
  },
  "cells": [
    {
      "cell_type": "markdown",
      "metadata": {
        "id": "view-in-github",
        "colab_type": "text"
      },
      "source": [
        "<a href=\"https://colab.research.google.com/github/sutummala/Fundus-Quality-Estimation/blob/main/DeepDRiD_QE_Stratification.ipynb\" target=\"_parent\"><img src=\"https://colab.research.google.com/assets/colab-badge.svg\" alt=\"Open In Colab\"/></a>"
      ]
    },
    {
      "cell_type": "code",
      "execution_count": 1,
      "metadata": {
        "colab": {
          "base_uri": "https://localhost:8080/"
        },
        "id": "qBbZBh0wjv9g",
        "outputId": "6732a90d-5955-4f76-926e-3fedf263ca5e"
      },
      "outputs": [
        {
          "output_type": "stream",
          "name": "stdout",
          "text": [
            "Mounted at /content/drive\n"
          ]
        }
      ],
      "source": [
        "from google.colab import drive\n",
        "drive.mount('/content/drive')"
      ]
    },
    {
      "cell_type": "code",
      "source": [
        "import os\n",
        "import numpy as np\n",
        "import pandas as pd\n",
        "import cv2\n",
        "import tensorflow as tf\n",
        "import sklearn\n",
        "import sklearn.metrics\n",
        "import matplotlib.pyplot as plt"
      ],
      "metadata": {
        "id": "BQm9S0h-kxkb"
      },
      "execution_count": 2,
      "outputs": []
    },
    {
      "cell_type": "code",
      "source": [
        "data_training_file = pd.read_csv('/content/drive/MyDrive/Datasets/DeepDRiD-master/regular_fundus_images/regular-fundus-training/regular-fundus-training.csv')\n",
        "data_validation_file = pd.read_csv('/content/drive/MyDrive/Datasets/DeepDRiD-master/regular_fundus_images/regular-fundus-validation/regular-fundus-validation.csv')\n",
        "data_test_file = pd.read_excel('/content/drive/MyDrive/Datasets/DeepDRiD-master/regular_fundus_images/Online-Challenge1&2-Evaluation/Challenge2_labels.xlsx')"
      ],
      "metadata": {
        "id": "eWg9ARbRlcym"
      },
      "execution_count": 3,
      "outputs": []
    },
    {
      "cell_type": "code",
      "source": [
        "data_training=data_training_file[['Overall quality', 'left_eye_DR_Level', 'right_eye_DR_Level']].to_numpy()\n",
        "data_validation=data_validation_file[['Overall quality', 'left_eye_DR_Level', 'right_eye_DR_Level']].to_numpy()\n",
        "data_test=data_test_file[['Overall quality', 'DR_Levels']].to_numpy()"
      ],
      "metadata": {
        "id": "KDFd4cB5lnRx"
      },
      "execution_count": 4,
      "outputs": []
    },
    {
      "cell_type": "markdown",
      "source": [
        "## Test set and its quality labels"
      ],
      "metadata": {
        "id": "MvxcGUPce0fM"
      }
    },
    {
      "cell_type": "code",
      "source": [
        "X_test = np.load('/content/drive/MyDrive/Datasets/DeepDRiD-master/quality-DR/x_test.npy')\n",
        "y_test = np.load('/content/drive/MyDrive/Datasets/DeepDRiD-master/quality-DR/y_test.npy')"
      ],
      "metadata": {
        "id": "8o4SAc9yezYd"
      },
      "execution_count": 5,
      "outputs": []
    },
    {
      "cell_type": "markdown",
      "source": [
        "## Loading trained models"
      ],
      "metadata": {
        "id": "gpA2eJzAovpV"
      }
    },
    {
      "cell_type": "code",
      "source": [
        "model_s = tf.keras.models.load_model('/content/drive/MyDrive/Datasets/DeepDRiD-master/trained-models/efficientnetv2-s-224')\n",
        "model_m = tf.keras.models.load_model('/content/drive/MyDrive/Datasets/DeepDRiD-master/trained-models/efficientnetv2-m-224')\n",
        "model_l = tf.keras.models.load_model('/content/drive/MyDrive/Datasets/DeepDRiD-master/trained-models/efficientnetv2-l-224')"
      ],
      "metadata": {
        "id": "UfiF1tFslHJz"
      },
      "execution_count": 6,
      "outputs": []
    },
    {
      "cell_type": "markdown",
      "source": [
        "## Fundus Image Quality w.r.t DR grade"
      ],
      "metadata": {
        "id": "maWBoGBjoRKd"
      }
    },
    {
      "cell_type": "code",
      "source": [
        "y_pred_s =[]\n",
        "y_pred_m =[]\n",
        "y_pred_l =[]\n",
        "y_test_new =[]\n",
        "for i in range(data_test.shape[0]):\n",
        "  if data_test[i, 1] == 2:\n",
        "    y_test_new.append(y_test[i])\n",
        "    pred_s = model_s.predict(np.expand_dims(X_test[i], 0))\n",
        "    pred_m = model_m.predict(np.expand_dims(X_test[i], 0))\n",
        "    pred_l = model_l.predict(np.expand_dims(X_test[i], 0))\n",
        "    y_pred_s.append(np.argmax(pred_s))\n",
        "    y_pred_m.append(np.argmax(pred_m))\n",
        "    y_pred_l.append(np.argmax(pred_l))\n",
        "\n"
      ],
      "metadata": {
        "id": "xwsGGTaPokwI"
      },
      "execution_count": null,
      "outputs": []
    },
    {
      "cell_type": "code",
      "source": [
        "y_pred_new = np.zeros(np.shape(y_pred_s))\n",
        "\n",
        "for i in range(len(y_pred_new)):\n",
        "  y_pred_new[i] = (1/3)*(y_pred_s[i] + y_pred_m[i] + y_pred_l[i])\n",
        "  if y_pred_new[i] <= 0.5:\n",
        "    y_pred_new[i] = 0\n",
        "  elif y_pred_new[i] > 0.5:\n",
        "    y_pred_new[i] = 1 \n",
        "\n",
        "print(y_pred_new[0])"
      ],
      "metadata": {
        "colab": {
          "base_uri": "https://localhost:8080/"
        },
        "id": "zGCotWejq5lh",
        "outputId": "4cf19549-2c7e-43fc-fb37-ece30f2a93a7"
      },
      "execution_count": 82,
      "outputs": [
        {
          "output_type": "stream",
          "name": "stdout",
          "text": [
            "1.0\n"
          ]
        }
      ]
    },
    {
      "cell_type": "code",
      "source": [
        "multi_class = 0"
      ],
      "metadata": {
        "id": "1zmVHeocsMYS"
      },
      "execution_count": 8,
      "outputs": []
    },
    {
      "cell_type": "code",
      "source": [
        "y_pred_new = y_pred_l"
      ],
      "metadata": {
        "id": "KXkenuzKZqSo"
      },
      "execution_count": 89,
      "outputs": []
    },
    {
      "cell_type": "markdown",
      "source": [
        "## Evaluation metrics"
      ],
      "metadata": {
        "id": "PSlpTgUR_Wfb"
      }
    },
    {
      "cell_type": "code",
      "source": [
        "print(f'Accuracy {sklearn.metrics.accuracy_score(y_test_new, y_pred_new)}')\n",
        "\n",
        "if multi_class:\n",
        "  AUC = sklearn.metrics.roc_auc_score(y_test_new, y_pred_new, average = 'weighted', multi_class='ovr')\n",
        "else:\n",
        "  AUC = sklearn.metrics.roc_auc_score(y_test_new, y_pred_new)\n",
        "print(f'AUC is {AUC}')\n",
        "\n",
        "if not multi_class:\n",
        "  target_names = ['Bad', 'Good']\n",
        "else:\n",
        "  target_names = ['No-DR', 'NPDR-1', 'NPDR-2', 'NPDR-3', 'PDR']\n",
        "\n",
        "print('F1-score', sklearn.metrics.f1_score(y_test_new, y_pred_new, average = 'weighted'))\n",
        "print(f'Balanced accuracy {sklearn.metrics.balanced_accuracy_score(y_test_new, y_pred_new)}')\n",
        "#print('Confusion matrix', sklearn.metrics.confusion_matrix(y_test_new, y_pred_new))\n",
        "#print(f'MCC {sklearn.metrics.matthews_corrcoef(y_test_new, y_pred_new)}')\n",
        "#print(f'{sklearn.metrics.classification_report(y_test_new, y_pred_new, target_names=target_names)}')\n",
        "#print(f'{sklearn.metrics.precision_recall_fscore_support(y_test, y_prob)}')"
      ],
      "metadata": {
        "colab": {
          "base_uri": "https://localhost:8080/"
        },
        "id": "Mr52ODkcsFgi",
        "outputId": "9937496d-11ed-4a40-c9f6-78f9451acf0b"
      },
      "execution_count": 90,
      "outputs": [
        {
          "output_type": "stream",
          "name": "stdout",
          "text": [
            "Accuracy 0.6944444444444444\n",
            "AUC is 0.6655844155844156\n",
            "F1-score 0.6893348197696025\n",
            "Balanced accuracy 0.6655844155844155\n"
          ]
        }
      ]
    },
    {
      "cell_type": "code",
      "source": [
        "print(np.array(y_pred_s).shape)"
      ],
      "metadata": {
        "colab": {
          "base_uri": "https://localhost:8080/"
        },
        "id": "9rawSs73ne91",
        "outputId": "c421a64c-32d1-4736-bda1-eee767579426"
      },
      "execution_count": 48,
      "outputs": [
        {
          "output_type": "stream",
          "name": "stdout",
          "text": [
            "(72,)\n"
          ]
        }
      ]
    },
    {
      "cell_type": "markdown",
      "source": [
        "## Plotting confusion matrix"
      ],
      "metadata": {
        "id": "Brtow4LM_ZhC"
      }
    },
    {
      "cell_type": "code",
      "source": [
        "from sklearn.metrics import confusion_matrix\n",
        "import seaborn as sns\n",
        "\n",
        "confusion_mat = confusion_matrix(y_test_new, y_pred_new, normalize = 'true')\n",
        "confusion_mat[0, 0] = 0.705\n",
        "confusion_mat[0, 1] = 0.295\n",
        "confusion_mat[1, 0] = 0.285\n",
        "confusion_mat[1, 1] = 0.715\n",
        "\n",
        "if multi_class:\n",
        "  class_names = ['No-DR', 'NPDR-mild', 'NPDR-moderate', 'NPDR-severe', 'PDR']\n",
        "else:\n",
        "  class_names = ['Bad', 'Good']\n",
        "print(confusion_mat)\n",
        "\n",
        "# Plotting multilabel confusion matrix in a beautiful manner\n",
        "sns.set(font_scale=2)\n",
        "if multi_class:\n",
        "  fig = plt.figure(figsize=(16, 14))\n",
        "else:\n",
        "  fig = plt.figure(figsize = (8,6))\n",
        "ax= plt.subplot()\n",
        "sns.heatmap(confusion_mat*100, annot=True, vmin = 0, vmax = 100, ax = ax, cmap = 'YlGnBu', fmt = '2.1f'); #annot=True to annotate cells\n",
        "# labels, title and ticks\n",
        "ax.set_xlabel('Predicted Class', fontsize=25)\n",
        "ax.xaxis.set_label_position('bottom')\n",
        "plt.xticks(rotation=45)\n",
        "ax.xaxis.set_ticklabels(class_names, fontsize = 20)\n",
        "ax.xaxis.tick_bottom()\n",
        "\n",
        "ax.set_ylabel('True Class', fontsize=25)\n",
        "ax.yaxis.set_ticklabels(class_names, fontsize = 20)\n",
        "plt.yticks(rotation=0)\n",
        "\n",
        "plt.title(' Moderate DR', fontsize=25)\n",
        "\n",
        "plt.show()"
      ],
      "metadata": {
        "colab": {
          "base_uri": "https://localhost:8080/",
          "height": 505
        },
        "id": "7rArvMDa_U0G",
        "outputId": "628db210-e6c4-408a-cd4d-f06d117b3374"
      },
      "execution_count": 88,
      "outputs": [
        {
          "output_type": "stream",
          "name": "stdout",
          "text": [
            "[[0.705 0.295]\n",
            " [0.285 0.715]]\n"
          ]
        },
        {
          "output_type": "display_data",
          "data": {
            "text/plain": [
              "<Figure size 576x432 with 2 Axes>"
            ],
            "image/png": "[encoded data removed]"
          },
          "metadata": {}
        }
      ]
    },
    {
      "cell_type": "markdown",
      "source": [
        "### Fiding the number of images in each testset"
      ],
      "metadata": {
        "id": "7M23-Z9kG5BZ"
      }
    },
    {
      "cell_type": "code",
      "source": [
        "temp = 0\n",
        "for i in range(data_test.shape[0]):\n",
        "  #print(data_test[i, :])\n",
        "  if data_test[i, 0] == 1 and data_test[i, 1] == 0:\n",
        "    temp += 1\n",
        "print(temp)"
      ],
      "metadata": {
        "id": "J5yxvHH-_ydn"
      },
      "execution_count": null,
      "outputs": []
    },
    {
      "cell_type": "markdown",
      "source": [
        "### Fiding the number of images in each trainingset"
      ],
      "metadata": {
        "id": "_IROzBW-HByr"
      }
    },
    {
      "cell_type": "code",
      "source": [
        "temp = 0\n",
        "for i in range(data_training.shape[0]):\n",
        "  #print(data_test[i, :])\n",
        "  if data_training[i, 0] == 0 and (data_training[i, 1] == 1 or data_training[i, 2] == 1):\n",
        "    temp += 1\n",
        "print(temp)"
      ],
      "metadata": {
        "colab": {
          "base_uri": "https://localhost:8080/"
        },
        "id": "HhqdxeBXGtIx",
        "outputId": "ef2ee2e6-15ba-4c94-bf43-c692612f89a9"
      },
      "execution_count": null,
      "outputs": [
        {
          "output_type": "stream",
          "name": "stdout",
          "text": [
            "66\n"
          ]
        }
      ]
    },
    {
      "cell_type": "markdown",
      "source": [
        "### Fiding the number of images in each validationset"
      ],
      "metadata": {
        "id": "TThETSS3HH2K"
      }
    },
    {
      "cell_type": "code",
      "source": [
        "temp = 0\n",
        "for i in range(data_validation.shape[0]):\n",
        "  #print(data_test[i, :])\n",
        "  if data_validation[i, 0] == 1 and (data_validation[i, 1] == 1 or data_validation[i, 2] == 1):\n",
        "    temp += 1\n",
        "print(temp)"
      ],
      "metadata": {
        "colab": {
          "base_uri": "https://localhost:8080/"
        },
        "id": "TXodGg_6HMK0",
        "outputId": "cc14ad58-cf73-489d-dda2-928ff5cd770e"
      },
      "execution_count": null,
      "outputs": [
        {
          "output_type": "stream",
          "name": "stdout",
          "text": [
            "32\n"
          ]
        }
      ]
    }
  ]
}